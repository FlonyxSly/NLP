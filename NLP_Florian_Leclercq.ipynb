{
  "nbformat": 4,
  "nbformat_minor": 0,
  "metadata": {
    "colab": {
      "name": "NLP Florian Leclercq.ipynb",
      "provenance": [],
      "authorship_tag": "ABX9TyO+VPqMDy8WOjDEtfjfhQwR",
      "include_colab_link": true
    },
    "kernelspec": {
      "name": "python3",
      "display_name": "Python 3"
    }
  },
  "cells": [
    {
      "cell_type": "markdown",
      "metadata": {
        "id": "view-in-github",
        "colab_type": "text"
      },
      "source": [
        "<a href=\"https://colab.research.google.com/github/FlonyxSly/NLP/blob/main/NLP_Florian_Leclercq.ipynb\" target=\"_parent\"><img src=\"https://colab.research.google.com/assets/colab-badge.svg\" alt=\"Open In Colab\"/></a>"
      ]
    },
    {
      "cell_type": "markdown",
      "metadata": {
        "id": "59q_nzLywPYZ"
      },
      "source": [
        "# Projet NLP Florian Leclercq"
      ]
    },
    {
      "cell_type": "code",
      "metadata": {
        "id": "68870NgXwJ8l"
      },
      "source": [
        ""
      ],
      "execution_count": null,
      "outputs": []
    }
  ]
}